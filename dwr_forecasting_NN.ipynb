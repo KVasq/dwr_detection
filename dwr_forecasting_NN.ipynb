{
 "cells": [
  {
   "cell_type": "code",
   "execution_count": null,
   "metadata": {
    "colab": {
     "base_uri": "https://localhost:8080/"
    },
    "id": "RC8TPwRXJuNU",
    "outputId": "f8a16909-227a-4063-a1bb-6e54c63ed4c2"
   },
   "outputs": [],
   "source": [
    "!git clone https://github.com/KVasq/dwr_detection.git"
   ]
  },
  {
   "cell_type": "code",
   "execution_count": null,
   "metadata": {
    "colab": {
     "base_uri": "https://localhost:8080/"
    },
    "id": "lcsOgz9qv9B1",
    "outputId": "3872d873-d461-4d12-d7f6-7ff310d31d08"
   },
   "outputs": [],
   "source": [
    "!pip install sktime"
   ]
  },
  {
   "cell_type": "code",
   "execution_count": 1,
   "metadata": {
    "id": "pLjxPGp_KEap"
   },
   "outputs": [],
   "source": [
    "import pandas as pd\n",
    "import numpy as np\n",
    "import keras \n",
    "import sktime\n",
    "import tensorflow.keras.backend as K"
   ]
  },
  {
   "cell_type": "code",
   "execution_count": 2,
   "metadata": {
    "colab": {
     "base_uri": "https://localhost:8080/",
     "height": 204
    },
    "id": "nhr6SEkwKHWP",
    "outputId": "dee0e217-a4df-44f5-af0d-31db74f76e68"
   },
   "outputs": [
    {
     "data": {
      "text/html": [
       "<div>\n",
       "<style scoped>\n",
       "    .dataframe tbody tr th:only-of-type {\n",
       "        vertical-align: middle;\n",
       "    }\n",
       "\n",
       "    .dataframe tbody tr th {\n",
       "        vertical-align: top;\n",
       "    }\n",
       "\n",
       "    .dataframe thead th {\n",
       "        text-align: right;\n",
       "    }\n",
       "</style>\n",
       "<table border=\"1\" class=\"dataframe\">\n",
       "  <thead>\n",
       "    <tr style=\"text-align: right;\">\n",
       "      <th></th>\n",
       "      <th>Unnamed: 0</th>\n",
       "      <th>Celsius</th>\n",
       "      <th>ML_L</th>\n",
       "      <th>PSU</th>\n",
       "      <th>Time</th>\n",
       "    </tr>\n",
       "  </thead>\n",
       "  <tbody>\n",
       "    <tr>\n",
       "      <th>8003</th>\n",
       "      <td>8004</td>\n",
       "      <td>9.396323</td>\n",
       "      <td>2.950113</td>\n",
       "      <td>31.124988</td>\n",
       "      <td>2019-12-28 12:30:00</td>\n",
       "    </tr>\n",
       "    <tr>\n",
       "      <th>8004</th>\n",
       "      <td>8005</td>\n",
       "      <td>9.425937</td>\n",
       "      <td>2.908023</td>\n",
       "      <td>31.116441</td>\n",
       "      <td>2019-12-29 00:30:00</td>\n",
       "    </tr>\n",
       "    <tr>\n",
       "      <th>8005</th>\n",
       "      <td>8006</td>\n",
       "      <td>9.408752</td>\n",
       "      <td>2.932251</td>\n",
       "      <td>31.120377</td>\n",
       "      <td>2019-12-29 12:30:00</td>\n",
       "    </tr>\n",
       "    <tr>\n",
       "      <th>8006</th>\n",
       "      <td>8007</td>\n",
       "      <td>9.437130</td>\n",
       "      <td>2.904944</td>\n",
       "      <td>31.115044</td>\n",
       "      <td>2019-12-30 00:30:00</td>\n",
       "    </tr>\n",
       "    <tr>\n",
       "      <th>8007</th>\n",
       "      <td>8008</td>\n",
       "      <td>9.414845</td>\n",
       "      <td>2.921852</td>\n",
       "      <td>31.118624</td>\n",
       "      <td>2019-12-30 12:30:00</td>\n",
       "    </tr>\n",
       "  </tbody>\n",
       "</table>\n",
       "</div>"
      ],
      "text/plain": [
       "      Unnamed: 0   Celsius      ML_L        PSU                 Time\n",
       "8003        8004  9.396323  2.950113  31.124988  2019-12-28 12:30:00\n",
       "8004        8005  9.425937  2.908023  31.116441  2019-12-29 00:30:00\n",
       "8005        8006  9.408752  2.932251  31.120377  2019-12-29 12:30:00\n",
       "8006        8007  9.437130  2.904944  31.115044  2019-12-30 00:30:00\n",
       "8007        8008  9.414845  2.921852  31.118624  2019-12-30 12:30:00"
      ]
     },
     "execution_count": 2,
     "metadata": {},
     "output_type": "execute_result"
    }
   ],
   "source": [
    "data = pd.read_csv('Temp_Sal_Oxy_Hourly_09_19.csv')\n",
    "pd.set_option(\"max_rows\", None)\n",
    "data.tail()\n"
   ]
  },
  {
   "cell_type": "code",
   "execution_count": 3,
   "metadata": {
    "id": "ERsFwKXHh5A6"
   },
   "outputs": [],
   "source": [
    "from numpy import array \n",
    "\n",
    "def split_sequence(sequence, n_steps_in, n_steps_out):\n",
    "\tX, y = list(), list()\n",
    "\tfor i in range(len(sequence)):\n",
    "\t\t# find the end of this pattern\n",
    "\t\tend_ix = i + n_steps_in\n",
    "\t\tout_end_ix = end_ix + n_steps_out\n",
    "\t\t# check if we are beyond the sequence\n",
    "\t\tif out_end_ix > len(sequence):\n",
    "\t\t\tbreak\n",
    "\t\t# gather input and output parts of the pattern\n",
    "\t\tseq_x, seq_y = sequence[i:end_ix], sequence[end_ix:out_end_ix]\n",
    "\t\tX.append(seq_x)\n",
    "\t\ty.append(seq_y)\n",
    "\treturn array(X), array(y)"
   ]
  },
  {
   "cell_type": "code",
   "execution_count": 63,
   "metadata": {
    "colab": {
     "base_uri": "https://localhost:8080/",
     "height": 1000
    },
    "id": "9QBvLvXOh62y",
    "outputId": "12946de6-ab71-4a29-c473-439a0384c6fa"
   },
   "outputs": [
    {
     "name": "stdout",
     "output_type": "stream",
     "text": [
      "(4951, 728, 1)\n",
      "(4951, 728)\n"
     ]
    }
   ],
   "source": [
    "from keras.models import Sequential\n",
    "from keras.layers import LSTM\n",
    "from keras.layers import Dense\n",
    "from sktime.utils.plotting import plot_series\n",
    "import tensorflow as tf\n",
    "from sktime.forecasting.model_selection import temporal_train_test_split\n",
    "\n",
    "\n",
    "# choose a number of time steps\n",
    "n_steps_in, n_steps_out = 728, 728\n",
    "\n",
    "data_train, data_test = temporal_train_test_split(data['Celsius'], test_size = 0.2)\n",
    "\n",
    "X, Y_test = split_sequence(data_train, n_steps_in=n_steps_in, n_steps_out=n_steps_out)\n",
    "\n",
    "X = X.reshape((X.shape[0], X.shape[1], 1))\n",
    "\n",
    "print(X.shape)\n",
    "print(Y_test.shape)"
   ]
  },
  {
   "cell_type": "code",
   "execution_count": 65,
   "metadata": {
    "colab": {
     "base_uri": "https://localhost:8080/",
     "height": 1000
    },
    "id": "9QBvLvXOh62y",
    "outputId": "12946de6-ab71-4a29-c473-439a0384c6fa"
   },
   "outputs": [
    {
     "name": "stdout",
     "output_type": "stream",
     "text": [
      "Epoch 1/100\n",
      "155/155 [==============================] - 15s 89ms/step - loss: 17.7590\n",
      "Epoch 2/100\n",
      "155/155 [==============================] - 13s 87ms/step - loss: 0.2338\n",
      "Epoch 3/100\n",
      "155/155 [==============================] - 14s 89ms/step - loss: 0.2329\n",
      "Epoch 4/100\n",
      "155/155 [==============================] - 14s 92ms/step - loss: 0.2330\n",
      "Epoch 5/100\n",
      "155/155 [==============================] - 15s 96ms/step - loss: 0.2330\n",
      "Epoch 6/100\n",
      "155/155 [==============================] - 15s 94ms/step - loss: 0.2330\n",
      "Epoch 7/100\n",
      "155/155 [==============================] - 14s 91ms/step - loss: 0.2332\n",
      "Epoch 8/100\n",
      "155/155 [==============================] - 14s 92ms/step - loss: 0.2333\n",
      "Epoch 9/100\n",
      "155/155 [==============================] - 14s 93ms/step - loss: 0.2333\n",
      "Epoch 10/100\n",
      "155/155 [==============================] - 15s 95ms/step - loss: 0.2334\n",
      "Epoch 11/100\n",
      "155/155 [==============================] - 14s 92ms/step - loss: 0.2336\n",
      "Epoch 12/100\n",
      "155/155 [==============================] - 14s 91ms/step - loss: 0.2334\n",
      "Epoch 13/100\n",
      "155/155 [==============================] - 14s 90ms/step - loss: 0.2333\n",
      "Epoch 14/100\n",
      "155/155 [==============================] - 15s 95ms/step - loss: 0.2337\n",
      "Epoch 15/100\n",
      "155/155 [==============================] - 13s 85ms/step - loss: 0.2336\n",
      "Epoch 16/100\n",
      "155/155 [==============================] - 14s 92ms/step - loss: 0.2335\n",
      "Epoch 17/100\n",
      "155/155 [==============================] - 14s 93ms/step - loss: 0.2337\n",
      "Epoch 18/100\n",
      "155/155 [==============================] - 14s 93ms/step - loss: 0.2345\n",
      "Epoch 19/100\n",
      "155/155 [==============================] - 14s 93ms/step - loss: 0.2337\n",
      "Epoch 20/100\n",
      "155/155 [==============================] - 14s 92ms/step - loss: 0.2342\n",
      "Epoch 21/100\n",
      "155/155 [==============================] - 14s 93ms/step - loss: 0.2344\n",
      "Epoch 22/100\n",
      "155/155 [==============================] - 14s 91ms/step - loss: 0.2340\n",
      "Epoch 23/100\n",
      "155/155 [==============================] - 14s 91ms/step - loss: 0.2342\n",
      "Epoch 24/100\n",
      "155/155 [==============================] - 14s 91ms/step - loss: 0.2336\n",
      "Epoch 25/100\n",
      "155/155 [==============================] - 14s 90ms/step - loss: 0.2343\n",
      "Epoch 26/100\n",
      "155/155 [==============================] - 14s 87ms/step - loss: 0.2348\n",
      "Epoch 27/100\n",
      "155/155 [==============================] - 14s 90ms/step - loss: 0.2361\n",
      "Epoch 28/100\n",
      "155/155 [==============================] - 14s 92ms/step - loss: 0.2349\n",
      "Epoch 29/100\n",
      "155/155 [==============================] - 15s 98ms/step - loss: 0.2344\n",
      "Epoch 30/100\n",
      "155/155 [==============================] - 15s 97ms/step - loss: 0.2364\n",
      "Epoch 31/100\n",
      "155/155 [==============================] - 14s 92ms/step - loss: 0.2354\n",
      "Epoch 32/100\n",
      "155/155 [==============================] - 14s 89ms/step - loss: 0.2352\n",
      "Epoch 33/100\n",
      "155/155 [==============================] - 13s 86ms/step - loss: 0.2351\n",
      "Epoch 34/100\n",
      "155/155 [==============================] - 14s 90ms/step - loss: 0.2359\n",
      "Epoch 35/100\n",
      "155/155 [==============================] - 14s 89ms/step - loss: 0.2352\n",
      "Epoch 36/100\n",
      "155/155 [==============================] - 13s 87ms/step - loss: 0.2351\n",
      "Epoch 37/100\n",
      "155/155 [==============================] - 14s 87ms/step - loss: 0.2355\n",
      "Epoch 38/100\n",
      "155/155 [==============================] - 14s 89ms/step - loss: 0.2344\n",
      "Epoch 39/100\n",
      "155/155 [==============================] - 15s 98ms/step - loss: 0.2339\n",
      "Epoch 40/100\n",
      "155/155 [==============================] - 16s 101ms/step - loss: 0.1872\n",
      "Epoch 41/100\n",
      "155/155 [==============================] - 15s 98ms/step - loss: 0.1599\n",
      "Epoch 42/100\n",
      "155/155 [==============================] - 13s 86ms/step - loss: 0.1490\n",
      "Epoch 43/100\n",
      "155/155 [==============================] - 13s 85ms/step - loss: 0.1513\n",
      "Epoch 44/100\n",
      "155/155 [==============================] - 13s 84ms/step - loss: 0.1468\n",
      "Epoch 45/100\n",
      "155/155 [==============================] - 13s 84ms/step - loss: 0.1483\n",
      "Epoch 46/100\n",
      "155/155 [==============================] - 14s 88ms/step - loss: 0.1452\n",
      "Epoch 47/100\n",
      "155/155 [==============================] - 14s 87ms/step - loss: 0.1460\n",
      "Epoch 48/100\n",
      "155/155 [==============================] - 14s 87ms/step - loss: 0.1453\n",
      "Epoch 49/100\n",
      "155/155 [==============================] - 13s 86ms/step - loss: 0.1454\n",
      "Epoch 50/100\n",
      "155/155 [==============================] - 14s 92ms/step - loss: 0.1442\n",
      "Epoch 51/100\n",
      "155/155 [==============================] - 14s 91ms/step - loss: 0.1430\n",
      "Epoch 52/100\n",
      "155/155 [==============================] - 14s 92ms/step - loss: 0.1427\n",
      "Epoch 53/100\n",
      "155/155 [==============================] - 14s 88ms/step - loss: 0.1410\n",
      "Epoch 54/100\n",
      "155/155 [==============================] - 13s 87ms/step - loss: 0.1473\n",
      "Epoch 55/100\n",
      "155/155 [==============================] - 13s 87ms/step - loss: 0.1445\n",
      "Epoch 56/100\n",
      "155/155 [==============================] - 13s 86ms/step - loss: 0.1435\n",
      "Epoch 57/100\n",
      "155/155 [==============================] - 13s 85ms/step - loss: 0.1454\n",
      "Epoch 58/100\n",
      "155/155 [==============================] - 13s 85ms/step - loss: 0.1426\n",
      "Epoch 59/100\n",
      "155/155 [==============================] - 13s 86ms/step - loss: 0.1411\n",
      "Epoch 60/100\n",
      "155/155 [==============================] - 14s 88ms/step - loss: 0.1442\n",
      "Epoch 61/100\n",
      "155/155 [==============================] - 14s 91ms/step - loss: 0.1423\n",
      "Epoch 62/100\n",
      "155/155 [==============================] - 13s 87ms/step - loss: 0.1407\n",
      "Epoch 63/100\n",
      "155/155 [==============================] - 13s 86ms/step - loss: 0.1450\n",
      "Epoch 64/100\n",
      "155/155 [==============================] - 13s 87ms/step - loss: 0.1411\n",
      "Epoch 65/100\n",
      "155/155 [==============================] - 13s 84ms/step - loss: 0.1389\n",
      "Epoch 66/100\n",
      "155/155 [==============================] - 13s 85ms/step - loss: 0.2283\n",
      "Epoch 67/100\n",
      "155/155 [==============================] - 13s 84ms/step - loss: 0.2201\n",
      "Epoch 68/100\n",
      "155/155 [==============================] - 13s 84ms/step - loss: 0.1833\n",
      "Epoch 69/100\n",
      "155/155 [==============================] - 13s 82ms/step - loss: 0.1627\n",
      "Epoch 70/100\n",
      "155/155 [==============================] - 13s 84ms/step - loss: 0.1538\n",
      "Epoch 71/100\n",
      "155/155 [==============================] - 13s 84ms/step - loss: 0.1571\n",
      "Epoch 72/100\n",
      "155/155 [==============================] - 13s 84ms/step - loss: 0.1465\n",
      "Epoch 73/100\n",
      "155/155 [==============================] - 14s 89ms/step - loss: 0.1454\n",
      "Epoch 74/100\n",
      "155/155 [==============================] - 14s 90ms/step - loss: 0.1679\n",
      "Epoch 75/100\n",
      "155/155 [==============================] - 14s 90ms/step - loss: 0.1445\n",
      "Epoch 76/100\n",
      "155/155 [==============================] - 13s 85ms/step - loss: 0.1429\n",
      "Epoch 77/100\n",
      "155/155 [==============================] - 14s 90ms/step - loss: 0.1463\n",
      "Epoch 78/100\n",
      "155/155 [==============================] - 14s 88ms/step - loss: 0.1467\n",
      "Epoch 79/100\n",
      "155/155 [==============================] - 14s 89ms/step - loss: 0.1452\n",
      "Epoch 80/100\n",
      "155/155 [==============================] - 12s 80ms/step - loss: 0.1452\n",
      "Epoch 81/100\n",
      "155/155 [==============================] - 13s 83ms/step - loss: 0.1466\n",
      "Epoch 82/100\n",
      "155/155 [==============================] - 13s 85ms/step - loss: 0.1380\n",
      "Epoch 83/100\n",
      "155/155 [==============================] - 14s 90ms/step - loss: 0.1375\n",
      "Epoch 84/100\n",
      "155/155 [==============================] - 13s 86ms/step - loss: 0.1400\n",
      "Epoch 85/100\n",
      "155/155 [==============================] - 14s 90ms/step - loss: 0.1417\n",
      "Epoch 86/100\n",
      "155/155 [==============================] - 14s 88ms/step - loss: 0.1387\n",
      "Epoch 87/100\n",
      "155/155 [==============================] - 13s 87ms/step - loss: 0.1378\n",
      "Epoch 88/100\n",
      "155/155 [==============================] - 13s 82ms/step - loss: 0.1375\n",
      "Epoch 89/100\n",
      "155/155 [==============================] - 13s 86ms/step - loss: 0.1386\n",
      "Epoch 90/100\n",
      "155/155 [==============================] - 13s 82ms/step - loss: 0.1408\n",
      "Epoch 91/100\n",
      "155/155 [==============================] - 13s 85ms/step - loss: 0.1917\n",
      "Epoch 92/100\n",
      "155/155 [==============================] - 13s 82ms/step - loss: 0.1480\n",
      "Epoch 93/100\n",
      "155/155 [==============================] - 13s 82ms/step - loss: 0.1280\n",
      "Epoch 94/100\n",
      "155/155 [==============================] - 13s 85ms/step - loss: 0.1201\n",
      "Epoch 95/100\n",
      "155/155 [==============================] - 13s 84ms/step - loss: 0.1153\n",
      "Epoch 96/100\n",
      "155/155 [==============================] - 13s 86ms/step - loss: 0.1136\n",
      "Epoch 97/100\n",
      "155/155 [==============================] - 14s 87ms/step - loss: 0.1169\n",
      "Epoch 98/100\n",
      "155/155 [==============================] - 14s 89ms/step - loss: 0.0912\n",
      "Epoch 99/100\n",
      "155/155 [==============================] - 14s 88ms/step - loss: 0.0871\n",
      "Epoch 100/100\n",
      "155/155 [==============================] - 13s 83ms/step - loss: 0.0823\n"
     ]
    },
    {
     "data": {
      "text/plain": [
       "<keras.callbacks.History at 0x2318ce35490>"
      ]
     },
     "execution_count": 65,
     "metadata": {},
     "output_type": "execute_result"
    }
   ],
   "source": [
    "model = Sequential()\n",
    "model.add(LSTM(100, activation='tanh', return_sequences=True, input_shape=(n_steps_in, 1)))\n",
    "model.add(LSTM(100, activation='tanh'))\n",
    "model.add(Dense(n_steps_out))\n",
    "model.compile(optimizer='adam', loss='mse')\n",
    "\n",
    "model.fit(X, Y_test, epochs=100)"
   ]
  },
  {
   "cell_type": "code",
   "execution_count": 15,
   "metadata": {},
   "outputs": [
    {
     "data": {
      "text/plain": [
       "(4163, 2184, 1)"
      ]
     },
     "execution_count": 15,
     "metadata": {},
     "output_type": "execute_result"
    }
   ],
   "source": [
    "X.shape"
   ]
  },
  {
   "cell_type": "code",
   "execution_count": 66,
   "metadata": {
    "colab": {
     "base_uri": "https://localhost:8080/",
     "height": 231
    },
    "id": "znUvmcJujWsQ",
    "outputId": "53ece151-7bbf-498e-e517-6b20e331788d"
   },
   "outputs": [
    {
     "data": {
      "text/plain": [
       "(147, 728)"
      ]
     },
     "execution_count": 66,
     "metadata": {},
     "output_type": "execute_result"
    }
   ],
   "source": [
    "n_steps_in = 728\n",
    "n_steps_out = 728\n",
    "X_input, Y_test = split_sequence(data_test, n_steps_in=n_steps_in, n_steps_out=n_steps_out)\n",
    "X_input.shape"
   ]
  },
  {
   "cell_type": "code",
   "execution_count": 67,
   "metadata": {
    "colab": {
     "base_uri": "https://localhost:8080/",
     "height": 231
    },
    "id": "znUvmcJujWsQ",
    "outputId": "53ece151-7bbf-498e-e517-6b20e331788d"
   },
   "outputs": [
    {
     "data": {
      "text/plain": [
       "(147, 728, 1)"
      ]
     },
     "execution_count": 67,
     "metadata": {},
     "output_type": "execute_result"
    }
   ],
   "source": [
    "#X_input = X_input.reshape((1, n_steps_in, -1))\n",
    "X_input = X_input.reshape((X_input.shape[0], X_input.shape[1], 1))\n",
    "X_input.shape"
   ]
  },
  {
   "cell_type": "code",
   "execution_count": 30,
   "metadata": {},
   "outputs": [
    {
     "data": {
      "text/plain": [
       "(1400,)"
      ]
     },
     "execution_count": 30,
     "metadata": {},
     "output_type": "execute_result"
    }
   ],
   "source": [
    "X_input[0,:,0].shape"
   ]
  },
  {
   "cell_type": "code",
   "execution_count": 13,
   "metadata": {},
   "outputs": [
    {
     "data": {
      "text/plain": [
       "(143, 60)"
      ]
     },
     "execution_count": 13,
     "metadata": {},
     "output_type": "execute_result"
    }
   ],
   "source": [
    "Y_test.shape"
   ]
  },
  {
   "cell_type": "code",
   "execution_count": 68,
   "metadata": {
    "colab": {
     "base_uri": "https://localhost:8080/",
     "height": 231
    },
    "id": "znUvmcJujWsQ",
    "outputId": "53ece151-7bbf-498e-e517-6b20e331788d"
   },
   "outputs": [],
   "source": [
    "y_pred = model.predict(X_input)"
   ]
  },
  {
   "cell_type": "code",
   "execution_count": 49,
   "metadata": {},
   "outputs": [
    {
     "data": {
      "text/plain": [
       "1"
      ]
     },
     "execution_count": 49,
     "metadata": {},
     "output_type": "execute_result"
    }
   ],
   "source": [
    "y_pred[0].ndim"
   ]
  },
  {
   "cell_type": "code",
   "execution_count": 44,
   "metadata": {},
   "outputs": [
    {
     "data": {
      "text/plain": [
       "numpy.ndarray"
      ]
     },
     "execution_count": 44,
     "metadata": {},
     "output_type": "execute_result"
    }
   ],
   "source": [
    "pred = np.reshape(y_pred[0], -1)\n",
    "type(pred)"
   ]
  },
  {
   "cell_type": "code",
   "execution_count": 69,
   "metadata": {},
   "outputs": [],
   "source": [
    "input_ = pd.Series(X_input[0,:,0])"
   ]
  },
  {
   "cell_type": "code",
   "execution_count": 70,
   "metadata": {},
   "outputs": [],
   "source": [
    "test_ = pd.Series(Y_test[0], index=range(input_.index[-1],input_.index[-1]+len(Y_test[0])))"
   ]
  },
  {
   "cell_type": "code",
   "execution_count": 71,
   "metadata": {},
   "outputs": [],
   "source": [
    "pred_ = pd.Series(y_pred[0], index=test_.index)"
   ]
  },
  {
   "cell_type": "code",
   "execution_count": 72,
   "metadata": {},
   "outputs": [
    {
     "data": {
      "text/plain": [
       "(<Figure size 1152x288 with 1 Axes>, <AxesSubplot:>)"
      ]
     },
     "execution_count": 72,
     "metadata": {},
     "output_type": "execute_result"
    },
    {
     "data": {
      "image/png": "[encoded data removed]",
      "text/plain": [
       "<Figure size 1152x288 with 1 Axes>"
      ]
     },
     "metadata": {
      "needs_background": "light"
     },
     "output_type": "display_data"
    }
   ],
   "source": [
    "plot_series(input_, test_, pred_, labels=[\"input\", \"test\", \"pred\"])"
   ]
  },
  {
   "cell_type": "code",
   "execution_count": 73,
   "metadata": {
    "colab": {
     "base_uri": "https://localhost:8080/",
     "height": 231
    },
    "id": "znUvmcJujWsQ",
    "outputId": "53ece151-7bbf-498e-e517-6b20e331788d"
   },
   "outputs": [
    {
     "data": {
      "text/plain": [
       "(<Figure size 1152x288 with 1 Axes>, <AxesSubplot:>)"
      ]
     },
     "execution_count": 73,
     "metadata": {},
     "output_type": "execute_result"
    },
    {
     "data": {
      "image/png": "[encoded data removed]",
      "text/plain": [
       "<Figure size 1152x288 with 1 Axes>"
      ]
     },
     "metadata": {
      "needs_background": "light"
     },
     "output_type": "display_data"
    }
   ],
   "source": [
    "plot_series(test_, pred_, labels=[\"test\", \"pred\"])"
   ]
  },
  {
   "cell_type": "markdown",
   "metadata": {},
   "source": [
    "# AutoLSTM"
   ]
  },
  {
   "cell_type": "code",
   "execution_count": null,
   "metadata": {},
   "outputs": [],
   "source": [
    "import os\n",
    "import random\n",
    "import numpy as np\n",
    "import pandas as pd\n",
    "import matplotlib.pyplot as plt\n",
    "\n",
    "from sklearn.metrics import mean_absolute_error\n",
    "from sklearn.preprocessing import StandardScaler\n",
    "from sklearn.model_selection import train_test_split\n",
    "\n",
    "import tensorflow as tf\n",
    "from tensorflow.keras.models import *\n",
    "from tensorflow.keras.layers import *\n",
    "from tensorflow.keras.callbacks import *\n",
    "from tensorflow.keras import backend as K"
   ]
  },
  {
   "cell_type": "code",
   "execution_count": null,
   "metadata": {},
   "outputs": [],
   "source": [
    "### CREATE TRAIN/TEST PRICE DATA ###\n",
    "\n",
    "data = pd.read_csv('Temp_Sal_Oxy_Hourly_09_19.csv')\n",
    "\n",
    "col = ['ML_L', 'PSU']\n",
    "\n",
    "X_train, X_test = [], []\n",
    "y_train, y_test = [], []\n",
    "\n",
    "#per each combination of region, type and test_flag, retrieve values and df of each combo\n",
    "    \n",
    "from numpy import array \n",
    "\n",
    "from sktime.forecasting.model_selection import temporal_train_test_split\n",
    "\n",
    "data_train, data_test = temporal_train_test_split(data, test_size = 0.2)\n",
    "\n",
    "len(data_test)"
   ]
  },
  {
   "cell_type": "code",
   "execution_count": null,
   "metadata": {},
   "outputs": [],
   "source": [
    "def split_sequence(sequence, n_steps_in, n_steps_out):\n",
    "\tX, y = list(), list()\n",
    "\tfor i in range(len(sequence)):\n",
    "\t\t# find the end of this pattern\n",
    "\t\tend_ix = i + n_steps_in\n",
    "\t\tout_end_ix = end_ix + n_steps_out\n",
    "\t\t# check if we are beyond the sequence\n",
    "\t\tif out_end_ix > len(sequence):\n",
    "\t\t\tbreak\n",
    "\t\t# gather input and output parts of the pattern\n",
    "\t\tseq_x, seq_y = sequence[i:end_ix], sequence[end_ix:out_end_ix]\n",
    "\t\tX.append(seq_x)\n",
    "\t\ty.append(seq_y)\n",
    "\treturn array(X), array(y)   \n",
    " \n",
    "y_train, y_test = split_sequence(data_train['Celsius'], 1448, 60)\n",
    "\n",
    "X_train, X_test = split_sequence(data_train[['PSU', 'ML_L']], 1448, 60)\n",
    "\n"
   ]
  },
  {
   "cell_type": "code",
   "execution_count": null,
   "metadata": {},
   "outputs": [],
   "source": [
    "def set_seed(seed):\n",
    "    \n",
    "    tf.random.set_seed(seed)\n",
    "    os.environ['PYTHONHASHSEED'] = str(seed)\n",
    "    np.random.seed(seed)\n",
    "    random.seed(seed)"
   ]
  },
  {
   "cell_type": "code",
   "execution_count": null,
   "metadata": {},
   "outputs": [],
   "source": [
    "print(X_train.shape, y_train.shape)\n",
    "print(X_test.shape, y_test.shape)"
   ]
  },
  {
   "cell_type": "code",
   "execution_count": null,
   "metadata": {},
   "outputs": [],
   "source": [
    "scaler = StandardScaler()\n",
    "X_train = scaler.fit_transform(X_train.reshape(-1,X_train.shape[-1])).reshape(X_train.shape)\n",
    "X_test = scaler.transform(X_test.reshape(-1,X_test.shape[-1])).reshape(X_test.shape)"
   ]
  },
  {
   "cell_type": "code",
   "execution_count": null,
   "metadata": {},
   "outputs": [],
   "source": [
    "set_seed(33)\n",
    "\n",
    "### DEFINE LSTM AUTOENCODER ###\n",
    "\n",
    "inputs_ae = Input(shape=(X_train.shape[1:]))\n",
    "encoded_ae = LSTM(128, return_sequences=True, dropout=0.5)(inputs_ae, training=True)\n",
    "decoded_ae = LSTM(32, return_sequences=True, dropout=0.5)(encoded_ae, training=True)\n",
    "out_ae = TimeDistributed(Dense(1))(decoded_ae)\n",
    "\n",
    "sequence_autoencoder = Model(inputs_ae, out_ae)\n",
    "sequence_autoencoder.compile(optimizer='adam', loss='mse')\n",
    "\n",
    "### TRAIN AUTOENCODER ###\n",
    "es = EarlyStopping(patience=6, verbose=2, min_delta=0.001, monitor='val_loss', mode='auto', restore_best_weights=True)\n",
    "sequence_autoencoder.fit(X_train, X_train, validation_data=(X_train, X_train),\n",
    "                         batch_size=64, epochs=50, verbose=1, callbacks=[es])"
   ]
  },
  {
   "cell_type": "code",
   "execution_count": null,
   "metadata": {},
   "outputs": [],
   "source": [
    "encoder = Model(inputs_ae, encoded_ae)\n",
    "X_train_ = np.concatenate([X_train, encoder.predict(X_train)], axis=-1)\n",
    "X_test_ = np.concatenate([X_test, encoder.predict(X_test)], axis=-1)\n",
    "\n",
    "X_train_.shape, X_test_.shape"
   ]
  },
  {
   "cell_type": "code",
   "execution_count": null,
   "metadata": {},
   "outputs": [],
   "source": [
    "from tensorflow.python.client import device_lib\n",
    "print(device_lib.list_local_devices())"
   ]
  },
  {
   "cell_type": "code",
   "execution_count": null,
   "metadata": {},
   "outputs": [],
   "source": [
    "from keras import backend as K\n",
    "K.tensorflow_backend._get_available_gpus()"
   ]
  }
 ],
 "metadata": {
  "colab": {
   "name": "dwr_forecasting_NN.ipynb",
   "provenance": []
  },
  "kernelspec": {
   "display_name": "Python 3 (ipykernel)",
   "language": "python",
   "name": "python3"
  },
  "language_info": {
   "codemirror_mode": {
    "name": "ipython",
    "version": 3
   },
   "file_extension": ".py",
   "mimetype": "text/x-python",
   "name": "python",
   "nbconvert_exporter": "python",
   "pygments_lexer": "ipython3",
   "version": "3.8.12"
  }
 },
 "nbformat": 4,
 "nbformat_minor": 1
}
